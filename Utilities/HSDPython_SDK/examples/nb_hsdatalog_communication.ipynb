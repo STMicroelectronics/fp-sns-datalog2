{
 "cells": [
  {
   "attachments": {},
   "cell_type": "markdown",
   "metadata": {},
   "source": [
    "# How to use st_hsdatalog HSD_link package - \\[Communication Features\\]\n",
    "---\n",
    "<br>\n",
    "<span style=\"color:cyan; font-weight:bold\">[!!!] Connect an HSDatalog (v1 or v2) compatible device, then import the HSD_link module. [!!!]</span>\n",
    "<p>Using this module with a connected device you will be able to:</p>\n",
    "<ul>\n",
    "<li>retrieve configuration details (both capabilities and current setting)</li>\n",
    "<li>update device sensors parameters</li>\n",
    "<li>control an acquisition saving sensor data transfered</li>\n",
    "<li>annotate real-time acquisitions</li>\n",
    "</ul>"
   ]
  },
  {
   "cell_type": "code",
   "execution_count": null,
   "metadata": {},
   "outputs": [],
   "source": [
    "from st_hsdatalog.HSD_link.HSDLink import HSDLink"
   ]
  },
  {
   "cell_type": "markdown",
   "metadata": {},
   "source": [
    "Initialize the HSD_link module with a specific device command set. 'stwin_hsd' string is used to create the right CommandManager internally."
   ]
  },
  {
   "cell_type": "code",
   "execution_count": null,
   "metadata": {},
   "outputs": [],
   "source": [
    "from st_hsdatalog.HSD_link.HSDLink_v2 import HSDLink_v2\n",
    "\n",
    "hsd_link_factory = HSDLink()\n",
    "hsd_link = hsd_link_factory.create_hsd_link()\n",
    "\n",
    "hsd_2 = isinstance(hsd_link, HSDLink_v2)"
   ]
  },
  {
   "cell_type": "markdown",
   "metadata": {},
   "source": [
    "\"stwin_hsd\" USB communication is based on a DLL which guarantees stable and robust communication at very high speeds.\n",
    "<p>To get DLL version:</p>"
   ]
  },
  {
   "cell_type": "code",
   "execution_count": null,
   "metadata": {},
   "outputs": [],
   "source": [
    "print(HSDLink.get_version(hsd_link))"
   ]
  },
  {
   "cell_type": "markdown",
   "metadata": {},
   "source": [
    "<p>This communication framework allow you to interact with a connected device using commands that could be grouped by several different types:</p>\n",
    "<h2>GET commands</h2>\n",
    "<hr>\n",
    "<p>You can obtain easily the list of all connected Devices</p>"
   ]
  },
  {
   "cell_type": "code",
   "execution_count": null,
   "metadata": {},
   "outputs": [],
   "source": [
    "dev_list = HSDLink.get_devices(hsd_link)\n",
    "for dev in dev_list:\n",
    "    print(dev)"
   ]
  },
  {
   "cell_type": "markdown",
   "metadata": {},
   "source": [
    "Or select a specific one"
   ]
  },
  {
   "cell_type": "code",
   "execution_count": null,
   "metadata": {},
   "outputs": [],
   "source": [
    "device_id = 0\n",
    "\n",
    "device = HSDLink.get_device(hsd_link, device_id)\n",
    "print(device)\n",
    "\n",
    "device_alias = HSDLink.get_device_alias(hsd_link, device_id)\n",
    "print(device_alias)"
   ]
  },
  {
   "cell_type": "markdown",
   "metadata": {},
   "source": [
    "Create a new HSDatalog to store the device model obtained from the physical board.\n",
    "<p><i>* All operations in this notebook can also be performed without using this <b style=\"color:cyan\">[HSDatalog]</b> object, which however makes it easier to perform some tasks</i></p>"
   ]
  },
  {
   "cell_type": "code",
   "execution_count": null,
   "metadata": {},
   "outputs": [],
   "source": [
    "from st_hsdatalog.HSD.HSDatalog import HSDatalog\n",
    "hsd_factory = HSDatalog()\n",
    "hsd= hsd_factory.create_hsd(device_config = device)\n",
    "\n",
    "HSDatalog.set_device(hsd, device)"
   ]
  },
  {
   "attachments": {},
   "cell_type": "markdown",
   "metadata": {},
   "source": [
    "A list of high-level device information could be retrieved from the device model obtained\n",
    "<p style=\"font-style: italic\">the same thing can be done also using the <b style=\"color:cyan\">[HSDatalog]</b> object </p>"
   ]
  },
  {
   "cell_type": "code",
   "execution_count": null,
   "metadata": {},
   "outputs": [],
   "source": [
    "device_info = HSDLink.get_device_info(hsd_link, device_id)\n",
    "HSDatalog.present_device_info(hsd, device_info)\n",
    "device_info = HSDatalog.get_device_info(hsd)\n",
    "HSDatalog.present_device_info(hsd, device_info)"
   ]
  },
  {
   "cell_type": "markdown",
   "metadata": {},
   "source": [
    "The list of sensors configuration can be obtained directly from the connected device and filtered by two parameters: the activation status and the sensor type.\n",
    "<p><li> <u>Only active sensors</u> (<b style=\"color:cyan\">[HSDatalog]</b> utility function is used to present the sensor list): </p>"
   ]
  },
  {
   "cell_type": "code",
   "execution_count": null,
   "metadata": {
    "tags": []
   },
   "outputs": [],
   "source": [
    "sensor_list = HSDLink.get_sensor_list(hsd_link, device_id, only_active=True)\n",
    "HSDatalog.present_sensor_list(hsd, sensor_list)"
   ]
  },
  {
   "cell_type": "markdown",
   "metadata": {},
   "source": [
    "<p><li><u>All sensors</u>, even those not active (<b style=\"color:cyan\">[HSDatalog]</b> utility function is used to present the sensor list): </p>"
   ]
  },
  {
   "cell_type": "code",
   "execution_count": null,
   "metadata": {},
   "outputs": [],
   "source": [
    "sensor_list = HSDLink.get_sensor_list(hsd_link, device_id, only_active=False)\n",
    "HSDatalog.present_sensor_list(hsd, sensor_list)"
   ]
  },
  {
   "cell_type": "markdown",
   "metadata": {},
   "source": [
    "<p><li><u>Active sensors filtered by a specific type</u> (e.g. MIC) (<b style=\"color:cyan\">[HSDatalog]</b> utility function is used to present the sensor list): </p>"
   ]
  },
  {
   "cell_type": "code",
   "execution_count": null,
   "metadata": {},
   "outputs": [],
   "source": [
    "sensor_list = HSDLink.get_sensor_list(hsd_link, device_id, only_active = True, type_filter=\"MIC\")\n",
    "HSDatalog.present_sensor_list(hsd, sensor_list)"
   ]
  },
  {
   "cell_type": "markdown",
   "metadata": {},
   "source": [
    "<p>Sensors configuration list can also be extracted from the previously retrieved Device object using the <b style=\"color:cyan\">[HSDatalog]</b> object</p>"
   ]
  },
  {
   "cell_type": "code",
   "execution_count": null,
   "metadata": {},
   "outputs": [],
   "source": [
    "sensor_list = HSDatalog.get_sensor_list(hsd, type_filter=\"ACC\")\n",
    "HSDatalog.present_sensor_list(hsd, sensor_list)"
   ]
  },
  {
   "cell_type": "markdown",
   "metadata": {},
   "source": [
    "\n",
    "<p>It is also possible to directly select a specific sensor from the device model using the <b style=\"color:cyan\">[HSDatalog]</b> object. For each sensor, it is possible to obtain descriptor and status parameters</p>"
   ]
  },
  {
   "cell_type": "code",
   "execution_count": null,
   "metadata": {},
   "outputs": [],
   "source": [
    "if hsd_2:\n",
    "    sensor_name = \"ism330dhcx_acc\"\n",
    "else:\n",
    "    sensor_name = \"ISM330DHCX\"\n",
    "    \n",
    "sensor = HSDatalog.get_sensor(hsd, sensor_name)\n",
    "HSDatalog.present_sensor(hsd, sensor)"
   ]
  },
  {
   "cell_type": "markdown",
   "metadata": {},
   "source": [
    "And from a specific sub sensor to extract specific parameters:"
   ]
  },
  {
   "cell_type": "code",
   "execution_count": null,
   "metadata": {},
   "outputs": [],
   "source": [
    "if hsd_2:\n",
    "    sensor_name = \"iis2dlpc_acc\"\n",
    "    s_id = None\n",
    "    ss_id = None\n",
    "else:\n",
    "    sensor_name = None\n",
    "    s_id = 0\n",
    "    ss_id = 0\n",
    "\n",
    "sensor_enabled = HSDLink.get_sensor_enabled(hsd_link, device_id, sensor_name, s_id, ss_id)\n",
    "sensor_odr = HSDLink.get_sensor_odr(hsd_link, device_id, sensor_name, s_id, ss_id)\n",
    "sensor_fs = HSDLink.get_sensor_fs(hsd_link, device_id, sensor_name, s_id, ss_id)\n",
    "sensor_spts = HSDLink.get_sensor_spts(hsd_link, device_id, sensor_name, s_id, ss_id)\n",
    "print(\"Enabled: {}\".format(sensor_enabled))\n",
    "print(\"ODR (Property Enum value in HSDatalog2): {}\".format(sensor_odr))\n",
    "print(\"FS (Property Enum value in HSDatalog2): {}\".format(sensor_fs))\n",
    "print(\"SamplePerTimestamp: {}\".format(sensor_spts))"
   ]
  },
  {
   "attachments": {},
   "cell_type": "markdown",
   "metadata": {},
   "source": [
    "<span style=\"color:red; font-weight: bold\">[HSDatalog2]</span> <p>In Datalog2 some device Properties could be defined as Enumerative. Their values are defined in the related DTDL Property.</p><p>A way to get the numerical value for the related Property is described in the following code cell.</p></span>"
   ]
  },
  {
   "cell_type": "code",
   "execution_count": null,
   "metadata": {},
   "outputs": [],
   "source": [
    "if hsd_2:\n",
    "    device = HSDLink.get_device(hsd_link, device_id)\n",
    "    HSDatalog.set_device(hsd, device)\n",
    "    sensor = HSDatalog.get_sensor(hsd, sensor_name)\n",
    "    print(\"ODR: {}\".format(HSDatalog.get_sensor_odr(hsd, sensor)))\n",
    "    print(\"FS: {}\".format(HSDatalog.get_sensor_fs(hsd, sensor)))"
   ]
  },
  {
   "cell_type": "markdown",
   "metadata": {},
   "source": [
    "<p>In addiction you can get other information about available Tag classes in FW:</p>\n",
    "<li><u>SW Tag</u> classes"
   ]
  },
  {
   "cell_type": "code",
   "execution_count": null,
   "metadata": {},
   "outputs": [],
   "source": [
    "sw_tag_classes = HSDLink.get_sw_tag_classes(hsd_link, device_id)\n",
    "HSDatalog.present_sw_tag_classes(hsd, sw_tag_classes)\n",
    "if hsd_2: #Additional APIs\n",
    "    print(hsd_link.get_sw_tag_class_label_by_id(device_id,tag_class_id=0))\n",
    "    print(hsd_link.get_sw_tag_class_enabled_by_id(device_id,tag_class_id=0))\n",
    "    print(hsd_link.get_sw_tag_class_status_by_id(device_id,tag_class_id=0))\n",
    "    print(hsd_link.get_sw_tag_class_label(device_id,comp_name=\"sw_tag0\"))\n",
    "    print(hsd_link.get_sw_tag_class_enabled(device_id,comp_name=\"sw_tag0\"))\n",
    "    print(hsd_link.get_sw_tag_class_status(device_id,comp_name=\"sw_tag0\"))"
   ]
  },
  {
   "cell_type": "markdown",
   "metadata": {},
   "source": [
    "<p><li><u>HW Tag</u> classes</p>"
   ]
  },
  {
   "cell_type": "code",
   "execution_count": null,
   "metadata": {},
   "outputs": [],
   "source": [
    "hw_tag_classes = HSDLink.get_hw_tag_classes(hsd_link, device_id)\n",
    "if hw_tag_classes is not None:\n",
    "    HSDatalog.present_hw_tag_classes(hsd, hw_tag_classes)\n",
    "else:\n",
    "    print(\"No HW Tag classes available\")"
   ]
  },
  {
   "cell_type": "markdown",
   "metadata": {},
   "source": [
    "<li><u>Maximum number of annotations</u> supported per single acquisition</li>"
   ]
  },
  {
   "cell_type": "code",
   "execution_count": null,
   "metadata": {},
   "outputs": [],
   "source": [
    "max_tag_per_acq = HSDLink.get_max_tags_per_acq(hsd_link, device_id)\n",
    "print(\"Max tags per acquisition: {}\".format(max_tag_per_acq))"
   ]
  },
  {
   "cell_type": "markdown",
   "metadata": {},
   "source": [
    "<h2>SET Commands\n",
    "<hr>"
   ]
  },
  {
   "cell_type": "markdown",
   "metadata": {},
   "source": [
    "SET single sensor parameter:"
   ]
  },
  {
   "cell_type": "code",
   "execution_count": null,
   "metadata": {},
   "outputs": [],
   "source": [
    "if hsd_2:\n",
    "    sensor_name = \"ism330dhcx_acc\"\n",
    "    sensor_type = None\n",
    "    print(\"--> SET enable Property = True\")\n",
    "    hsd_link.set_sensor_enable(d_id = 0, new_status=True, comp_name=sensor_name)\n",
    "    print(\"Enable: {}\".format(hsd_link.get_sensor_enable(d_id = 0, sensor_name=sensor_name)))\n",
    "    print(\"--> SET odr Property = 1666.0 Hz (DTDL enum=7)\")\n",
    "    hsd_link.set_sensor_odr(d_id = 0, new_odr=7, comp_name=sensor_name)\n",
    "    print(\"ODR: {}\".format(hsd_link.get_sensor_odr(d_id = 0, sensor_name=sensor_name)))\n",
    "    print(\"--> SET fs Property = 8 g (DTDL enum=2)\")\n",
    "    hsd_link.set_sensor_fs(d_id = 0, new_fs=2, comp_name=sensor_name)\n",
    "    print(\"FS: {}\".format(hsd_link.get_sensor_fs(d_id = 0, sensor_name=sensor_name)))\n",
    "    print(\"--> SET SamplePerTimestamp = 500\")\n",
    "    hsd_link.set_sensor_samples_per_ts(d_id = 0, new_spts=500, comp_name=sensor_name)\n",
    "    print(\"SamplePerTimestamp: {}\".format(hsd_link.get_sensor_samples_per_ts(d_id = 0, sensor_name=sensor_name)))\n",
    "else:\n",
    "    print(\"SensorName: {}\".format(hsd_link.get_sensor_name(d_id = 0, s_id = 5)))\n",
    "    print(\"SubSensorType: {}\".format(hsd_link.get_sub_sensor_type(d_id = 0, s_id = 5, ss_id = 0)))\n",
    "    print(\"--> SET isActive = True\")\n",
    "    hsd_link.set_sub_sensor_active(d_id = 0, s_id = 5, ss_id = 0, new_status = True)\n",
    "    print(\"isActive: {}\".format(hsd_link.get_sub_sensor_isActive(d_id = 0, s_id = 5, ss_id = 0)))\n",
    "    print(\"--> SET ODR = 3332.0\")\n",
    "    hsd_link.set_sub_sensor_odr(d_id = 0, s_id = 5, ss_id = 0, odr_value = 3332.0)\n",
    "    print(\"ODR: {}\".format(hsd_link.get_sub_sensor_odr(d_id = 0, s_id = 5, ss_id = 0)))\n",
    "    print(\"--> SET FS = 4.0\")\n",
    "    hsd_link.set_sub_sensor_fs(d_id = 0, s_id = 5, ss_id = 0, fs_value = 4.0)\n",
    "    print(\"FS: {}\".format(hsd_link.get_sub_sensor_fs(d_id = 0, s_id = 5, ss_id = 0)))\n",
    "    print(\"--> SET SamplePerTimestamp = 1000\")\n",
    "    hsd_link.set_samples_per_timestamp(d_id = 0, s_id = 5, ss_id = 0, spts_value=1000)\n",
    "    print(\"SamplePerTimestamp: {}\".format(hsd_link.get_sub_sensor_sample_per_ts(d_id = 0, s_id = 5, ss_id = 0)))"
   ]
  },
  {
   "attachments": {},
   "cell_type": "markdown",
   "metadata": {},
   "source": [
    "Upload an ucf file to configure the MLC sensor on the board (also if it isn't enabled)"
   ]
  },
  {
   "cell_type": "code",
   "execution_count": null,
   "metadata": {},
   "outputs": [],
   "source": [
    "if hsd_2:\n",
    "    ucf_file_path = \"..\\\\..\\\\STWIN.box_config_examples\\\\UCF_examples\\\\ism330dhcx_six_d_position.ucf\"\n",
    "else:\n",
    "    ucf_file_path = \"..\\\\..\\\\STWIN_config_examples\\\\UCF_examples\\\\ism330dhcx_six_d_position.ucf\"\n",
    "HSDLink.upload_mlc_ucf_file(hsd_link, device_id, ucf_file_path)"
   ]
  },
  {
   "cell_type": "markdown",
   "metadata": {},
   "source": [
    "Device configuration update from JSON file"
   ]
  },
  {
   "cell_type": "code",
   "execution_count": null,
   "metadata": {},
   "outputs": [],
   "source": [
    "if hsd_2:\n",
    "    json_file_path = \"..\\\\..\\\\STWIN.box_config_examples\\\\env_sensors.json\"\n",
    "else:\n",
    "    json_file_path = \"..\\\\..\\\\STWIN_config_examples\\\\EnvSensors.json\"\n",
    "\n",
    "HSDLink.update_device(hsd_link, device_id, json_file_path)\n",
    "sensor_list = HSDLink.get_sensor_list(hsd_link, device_id, only_active=False)\n",
    "HSDatalog.present_sensor_list(hsd, sensor_list)"
   ]
  },
  {
   "cell_type": "markdown",
   "metadata": {},
   "source": [
    "Set next acquisition name and description"
   ]
  },
  {
   "cell_type": "code",
   "execution_count": null,
   "metadata": {},
   "outputs": [],
   "source": [
    "HSDLink.set_acquisition_info(hsd_link, device_id, \"acq_name_00\",\"acq_notes_00\")\n",
    "if hsd_2: #HSDatalog2 Additional APIs\n",
    "    hsd_link.set_acquisition_name(0,\"acq_name_00\")\n",
    "    hsd_link.set_acquisition_description(0,\"acq_notes_00\")\n",
    "print(HSDLink.get_acquisition_info(hsd_link, device_id))"
   ]
  },
  {
   "attachments": {},
   "cell_type": "markdown",
   "metadata": {},
   "source": [
    "[HSDatalog1 Only] Configure HW Tags (label and activation status)"
   ]
  },
  {
   "cell_type": "code",
   "execution_count": null,
   "metadata": {},
   "outputs": [],
   "source": [
    "hw_tag_classes = HSDLink.get_hw_tag_classes(hsd_link, device_id)\n",
    "if hw_tag_classes is not None:\n",
    "    print(hw_tag_classes)\n",
    "    hsd_link.set_hw_tag_disabled(d_id = 0 , t_id = 0)\n",
    "    hsd_link.set_hw_tag_label(d_id = 0 , t_id = 0 , label= \"Running\")\n",
    "    hw_tag_classes = hsd_link.get_hw_tag_classes(d_id = 0)\n",
    "    print(hw_tag_classes)\n",
    "else:\n",
    "    print(\"No HW Tag classes available\")"
   ]
  },
  {
   "cell_type": "markdown",
   "metadata": {},
   "source": [
    "Configure SW Tags labels"
   ]
  },
  {
   "cell_type": "code",
   "execution_count": null,
   "metadata": {},
   "outputs": [],
   "source": [
    "sw_tag_classes = HSDLink.get_sw_tag_classes(hsd_link, device_id)\n",
    "print(sw_tag_classes)\n",
    "\n",
    "if hsd_2:\n",
    "    hsd_link.set_sw_tag_class_enabled_by_id(d_id = 0, tag_class_id = 3, new_status = False)\n",
    "    hsd_link.set_sw_tag_class_label_by_id(d_id = 0, tag_class_id = 3, new_label = \"Walking\")\n",
    "    hsd_link.set_sw_tag_class_enabled(d_id = 0, comp_name=\"sw_tag4\", new_status = False)\n",
    "    hsd_link.set_sw_tag_class_label(d_id = 0, comp_name=\"sw_tag4\", new_label = \"Walking\")\n",
    "else:\n",
    "    hsd_link.set_sw_tag_label(d_id = 0 , t_id = 3 , label= \"Walking\")\n",
    "\n",
    "sw_tag_classes = HSDLink.get_sw_tag_classes(hsd_link, device_id)\n",
    "print(sw_tag_classes)"
   ]
  },
  {
   "cell_type": "markdown",
   "metadata": {},
   "source": [
    "<h2>LOG CONTROL Commands </h2>\n",
    "<hr>"
   ]
  },
  {
   "attachments": {},
   "cell_type": "markdown",
   "metadata": {},
   "source": [
    "<span style=\"color:red; font-weight: bold\">[HSDatalog2 Only]</span> Set RTC Time. Send to the board the current datetime formatted as follow:\n",
    "<ul><b>\"%Y%m%d_%H_%M_%S\"</b></ul>"
   ]
  },
  {
   "cell_type": "code",
   "execution_count": null,
   "metadata": {},
   "outputs": [],
   "source": [
    "if hsd_2:\n",
    "    hsd_link.set_rtc_time(device_id)"
   ]
  },
  {
   "attachments": {},
   "cell_type": "markdown",
   "metadata": {},
   "source": [
    "Once the configuration phase is concluded, it is possible to start the acquisition process.\n",
    "<p>With an acquisition in progress, you can get sensor data with for each active sensors.</p>\n",
    "<p><i>* In the following three code cells we start an acquisition retrieving data from all active sensors and save them in the acquisition folder. A dedicated thread will be created for each active sensor</i></p>"
   ]
  },
  {
   "cell_type": "code",
   "execution_count": null,
   "metadata": {
    "tags": []
   },
   "outputs": [],
   "source": [
    "\n",
    "import time\n",
    "\n",
    "threads_stop_flags = []\n",
    "sensor_data_files = []\n",
    "\n",
    "sensor_list = HSDLink.get_sensor_list(hsd_link, device_id, only_active=True)\n",
    "HSDatalog.present_sensor_list(hsd, sensor_list)\n",
    "\n",
    "HSDLink.start_log(hsd_link, device_id)\n",
    "\n",
    "for s in sensor_list:\n",
    "    HSDLink.start_sensor_acquisition_thread(hsd_link, device_id, s, threads_stop_flags, sensor_data_files, print_data_cnt = True)\n",
    "    \n",
    "time.sleep(3)"
   ]
  },
  {
   "cell_type": "markdown",
   "metadata": {},
   "source": [
    "Tag an acquisition in progress. (wait for 3 seconds, then 3 seconds of SW Tag Class 0 ->(label defined before as \"Walking\"), followed by 3 seconds of SW Tag Class 1."
   ]
  },
  {
   "cell_type": "code",
   "execution_count": null,
   "metadata": {},
   "outputs": [],
   "source": [
    "\n",
    "time.sleep(3)\n",
    "\n",
    "tag_id = 0\n",
    "HSDLink.set_sw_tag_on(hsd_link, device_id, tag_id=tag_id)\n",
    "time.sleep(3)\n",
    "HSDLink.set_sw_tag_off(hsd_link, device_id, tag_id=tag_id)\n",
    "\n",
    "if hsd_2: #HSDatalog2 Additional APIs\n",
    "    hsd_link.set_sw_tag_on(0,\"sw_tag1\")\n",
    "    time.sleep(3)\n",
    "    hsd_link.set_sw_tag_off(0,\"sw_tag1\")\n",
    "else:\n",
    "    tag_id = 1\n",
    "    HSDLink.set_sw_tag_on(hsd_link, device_id, tag_id)\n",
    "    time.sleep(3)\n",
    "    HSDLink.set_sw_tag_off(hsd_link, device_id, tag_id)\n",
    "    \n",
    "time.sleep(3)"
   ]
  },
  {
   "attachments": {},
   "cell_type": "markdown",
   "metadata": {},
   "source": [
    "<p>To stop the process and save all necessary acquisition files in the right folder, you have to launch the following commands.</p>\n",
    "<p>In addition to sensor data files(.dat), the following JSON files will also be saved in the acquisitino folder:</p>\n",
    "<p>HSDatalog_v1</p>\n",
    "<li>Device configuration file <b>[DeviceConfig.json]</b> containing a complete device capability description and the current device status snapshot</li>\n",
    "<li>Acquisition info file <b>[AcquisitionInfo.json]</b> containing a list of all annotations taken during the acquisition process</li>\n",
    "<p>HSDatalog_v2</p>\n",
    "<li>Device configuration file <b>[device_config.json]</b> containing the current device status snapshot (Properties values)</li>\n",
    "<li>Acquisition info file <b>[acquisition_info.json]</b> containing a list of all annotations taken during the acquisition process (Acquisition Info Component Status)</li>\n",
    "<br>\n",
    "<i>* Each of these files contains an identification string to link them together and with a specific acquisition</i>"
   ]
  },
  {
   "cell_type": "code",
   "execution_count": null,
   "metadata": {},
   "outputs": [],
   "source": [
    "for sf in threads_stop_flags:\n",
    "    sf.set()\n",
    "for f in sensor_data_files:\n",
    "    f.close()\n",
    "\n",
    "HSDLink.stop_log(hsd_link, device_id)\n",
    "HSDLink.save_json_device_file(hsd_link, device_id)\n",
    "HSDLink.save_json_acq_info_file(hsd_link, device_id)"
   ]
  }
 ],
 "metadata": {
  "kernelspec": {
   "display_name": ".venv",
   "language": "python",
   "name": "python3"
  },
  "language_info": {
   "codemirror_mode": {
    "name": "ipython",
    "version": 3
   },
   "file_extension": ".py",
   "mimetype": "text/x-python",
   "name": "python",
   "nbconvert_exporter": "python",
   "pygments_lexer": "ipython3",
   "version": "3.9.5"
  },
  "vscode": {
   "interpreter": {
    "hash": "52be901ce7b25ebca494f3ea5804dea201c1963ee21397f246a351e8b03e058e"
   }
  }
 },
 "nbformat": 4,
 "nbformat_minor": 2
}

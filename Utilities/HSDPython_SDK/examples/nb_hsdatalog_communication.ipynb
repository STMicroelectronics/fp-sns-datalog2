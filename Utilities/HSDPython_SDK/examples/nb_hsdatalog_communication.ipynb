{
 "cells": [
  {
   "attachments": {},
   "cell_type": "markdown",
   "metadata": {},
   "source": [
    "# How to use st_hsdatalog HSD_link package - \\[Communication Features\\]\n",
    "---\n",
    "<br>\n",
    "<span style=\"color:cyan; font-weight:bold\">[!!!] Connect an HSDatalog v2 compatible device, then import the HSD_link module. [!!!]</span>\n",
    "<p>Using this module with a connected device you will be able to:</p>\n",
    "<ul>\n",
    "<li>retrieve configuration details (both capabilities and current setting)</li>\n",
    "<li>update device sensors parameters</li>\n",
    "<li>control an acquisition saving sensor data transfered</li>\n",
    "<li>annotate real-time acquisitions</li>\n",
    "</ul>"
   ]
  },
  {
   "cell_type": "code",
   "execution_count": null,
   "metadata": {},
   "outputs": [],
   "source": [
    "from st_hsdatalog.HSD_link.HSDLink import HSDLink"
   ]
  },
  {
   "cell_type": "markdown",
   "metadata": {},
   "source": [
    "Initialize the HSD_link module with a specific device command set. 'st_hsd' string is used to create the right CommandManager internally."
   ]
  },
  {
   "cell_type": "code",
   "execution_count": null,
   "metadata": {},
   "outputs": [],
   "source": [
    "hsd_link = HSDLink()\n",
    "hsd_link_instance = hsd_link.create_hsd_link(dev_com_type='st_hsd', acquisition_folder='./test_folder')"
   ]
  },
  {
   "cell_type": "markdown",
   "metadata": {},
   "source": [
    "\"st_hsd\" USB communication is based on a DLL which guarantees stable and robust communication at very high speeds.\n",
    "<p>To get DLL version:</p>"
   ]
  },
  {
   "cell_type": "code",
   "execution_count": null,
   "metadata": {},
   "outputs": [],
   "source": [
    "version = hsd_link.get_version(hsd_link_instance)\n",
    "print(f\"HSDLink Version: {version}\")"
   ]
  },
  {
   "cell_type": "markdown",
   "metadata": {},
   "source": [
    "<p>This communication framework allows you to interact with a connected device using commands that could be grouped by several different types:</p>\n",
    "<h2>GET commands</h2>\n",
    "<hr>\n",
    "<p>You can obtain easily the list of all connected Devices</p>"
   ]
  },
  {
   "cell_type": "code",
   "execution_count": null,
   "metadata": {},
   "outputs": [],
   "source": [
    "devices = hsd_link.get_devices(hsd_link_instance)\n",
    "print(f\"Connected Devices: {devices}\")"
   ]
  },
  {
   "cell_type": "markdown",
   "metadata": {},
   "source": [
    "Or select a specific one"
   ]
  },
  {
   "cell_type": "code",
   "execution_count": null,
   "metadata": {},
   "outputs": [],
   "source": [
    "device_id = 0\n",
    "\n",
    "device = hsd_link.get_device(hsd_link_instance, device_id)\n",
    "print(f\"Device: {device}\")\n",
    "\n",
    "device_alias = hsd_link.get_device_alias(hsd_link_instance, device_id)\n",
    "print(f\"Device Alias: {device_alias}\")"
   ]
  },
  {
   "cell_type": "markdown",
   "metadata": {},
   "source": [
    "Create a new HSDatalog to store the device model obtained from the physical board.\n",
    "<p><i>* All operations in this notebook can also be performed without using this <b style=\"color:cyan\">[HSDatalog]</b> object, which however makes it easier to perform some tasks</i></p>"
   ]
  },
  {
   "cell_type": "code",
   "execution_count": null,
   "metadata": {},
   "outputs": [],
   "source": [
    "from st_hsdatalog.HSD.HSDatalog import HSDatalog\n",
    "hsd_factory = HSDatalog()\n",
    "hsd= hsd_factory.create_hsd(device_config = device)\n",
    "\n",
    "HSDatalog.set_device(hsd, device)"
   ]
  },
  {
   "attachments": {},
   "cell_type": "markdown",
   "metadata": {},
   "source": [
    "A list of high-level device information could be retrieved from the device model obtained\n",
    "<p style=\"font-style: italic\">the same thing can be done also using the <b style=\"color:cyan\">[HSDatalog]</b> object </p>"
   ]
  },
  {
   "cell_type": "code",
   "execution_count": null,
   "metadata": {},
   "outputs": [],
   "source": [
    "device_info = hsd_link.get_device_info(hsd_link_instance, device_id)\n",
    "HSDatalog.present_device_info(hsd, device_info)\n",
    "device_info = HSDatalog.get_device_info(hsd)\n",
    "HSDatalog.present_device_info(hsd, device_info)"
   ]
  },
  {
   "cell_type": "markdown",
   "metadata": {},
   "source": [
    "The list of sensors configuration can be obtained directly from the connected device and filtered by two parameters: the activation status and the sensor type.\n",
    "<p><li> <u>Only active sensors</u> (<b style=\"color:cyan\">[HSDatalog]</b> utility function is used to present the sensor list): </p>"
   ]
  },
  {
   "cell_type": "code",
   "execution_count": null,
   "metadata": {
    "tags": []
   },
   "outputs": [],
   "source": [
    "sensor_list = hsd_link.get_sensor_list(hsd_link_instance, device_id, only_active=True)\n",
    "HSDatalog.present_sensor_list(hsd, sensor_list)"
   ]
  },
  {
   "cell_type": "markdown",
   "metadata": {},
   "source": [
    "<p><li><u>All sensors</u>, even those not active (<b style=\"color:cyan\">[HSDatalog]</b> utility function is used to present the sensor list): </p>"
   ]
  },
  {
   "cell_type": "code",
   "execution_count": null,
   "metadata": {},
   "outputs": [],
   "source": [
    "sensor_list = hsd_link.get_sensor_list(hsd_link_instance, device_id, only_active=False)\n",
    "HSDatalog.present_sensor_list(hsd, sensor_list)"
   ]
  },
  {
   "cell_type": "markdown",
   "metadata": {},
   "source": [
    "<p><li><u>Active sensors filtered by a specific type</u> (e.g. MIC) (<b style=\"color:cyan\">[HSDatalog]</b> utility function is used to present the sensor list): </p>"
   ]
  },
  {
   "cell_type": "code",
   "execution_count": null,
   "metadata": {},
   "outputs": [],
   "source": [
    "sensor_list = hsd_link.get_sensor_list(hsd_link_instance, device_id, only_active=True, type_filter=\"MIC\")\n",
    "HSDatalog.present_sensor_list(hsd, sensor_list)"
   ]
  },
  {
   "cell_type": "markdown",
   "metadata": {},
   "source": [
    "<p>Sensors configuration list can also be extracted from the previously retrieved Device object using the <b style=\"color:cyan\">[HSDatalog]</b> object</p>"
   ]
  },
  {
   "cell_type": "code",
   "execution_count": null,
   "metadata": {},
   "outputs": [],
   "source": [
    "sensor_list = HSDatalog.get_sensor_list(hsd, type_filter=\"ACC\")\n",
    "HSDatalog.present_sensor_list(hsd, sensor_list)"
   ]
  },
  {
   "cell_type": "markdown",
   "metadata": {},
   "source": [
    "\n",
    "<p>It is also possible to directly select a specific sensor from the device model using the <b style=\"color:cyan\">[HSDatalog]</b> object."
   ]
  },
  {
   "cell_type": "code",
   "execution_count": null,
   "metadata": {},
   "outputs": [],
   "source": [
    "sensor_name = \"ism330dhcx_acc\"\n",
    "try:\n",
    "    sensor = HSDatalog.get_sensor(hsd, sensor_name)\n",
    "    HSDatalog.present_sensor(hsd, sensor)\n",
    "except Exception as e:\n",
    "    print(f\"Choosen sensor [{sensor_name}] is missing in your connected device. Please choose another sensor.\")"
   ]
  },
  {
   "cell_type": "markdown",
   "metadata": {},
   "source": [
    "And to extract specific sensor parameters specifying only the sensor name."
   ]
  },
  {
   "cell_type": "code",
   "execution_count": null,
   "metadata": {},
   "outputs": [],
   "source": [
    "sensor_name = \"iis2dlpc_acc\"\n",
    "sensor_enabled = hsd_link.get_sensor_enabled(hsd_link_instance, device_id, sensor_name)\n",
    "sensor_odr = hsd_link.get_sensor_odr(hsd_link_instance, device_id, sensor_name)\n",
    "sensor_fs = hsd_link.get_sensor_fs(hsd_link_instance, device_id, sensor_name)\n",
    "sensor_spts = hsd_link.get_sensor_spts(hsd_link_instance, device_id, sensor_name)\n",
    "print(f\"Enabled: {sensor_enabled}\")\n",
    "print(f\"ODR: {sensor_odr}\")\n",
    "print(f\"FS: {sensor_fs}\")\n",
    "print(f\"SamplePerTimestamp: {sensor_spts}\")"
   ]
  },
  {
   "attachments": {},
   "cell_type": "markdown",
   "metadata": {},
   "source": [
    "<p>In Datalog2 some device Properties could be defined as Enumerative. Their values are defined in the related DTDL Property.</p><p>A way to get the numerical value for the related Property is described in the following code cell.</p></span>"
   ]
  },
  {
   "cell_type": "code",
   "execution_count": null,
   "metadata": {},
   "outputs": [],
   "source": [
    "sensor = HSDatalog.get_sensor(hsd, sensor_name)\n",
    "print(f\"Sensor: {sensor}\")\n",
    "print(f\"ODR: {HSDatalog.get_sensor_odr(hsd, sensor)}\")\n",
    "print(f\"FS: {HSDatalog.get_sensor_fs(hsd, sensor)}\")"
   ]
  },
  {
   "cell_type": "markdown",
   "metadata": {},
   "source": [
    "<p>In addition you can get other information about available Tag classes in FW:</p>\n",
    "<li><u>SW Tag</u> classes"
   ]
  },
  {
   "cell_type": "code",
   "execution_count": null,
   "metadata": {},
   "outputs": [],
   "source": [
    "sw_tag_classes = hsd_link.get_sw_tag_classes(hsd_link_instance, device_id)\n",
    "HSDatalog.present_sw_tag_classes(hsd, sw_tag_classes)\n",
    "print(hsd_link.get_sw_tag_class_label_by_id(hsd_link_instance, device_id, tag_class_id=0))\n",
    "print(hsd_link.get_sw_tag_class_enabled_by_id(hsd_link_instance, device_id, tag_class_id=0))\n",
    "print(hsd_link.get_sw_tag_class_status_by_id(hsd_link_instance, device_id, tag_class_id=0))\n",
    "print(hsd_link.get_sw_tag_class_label(hsd_link_instance, device_id, tag_class_name=\"sw_tag0\"))\n",
    "print(hsd_link.get_sw_tag_class_enabled(hsd_link_instance, device_id, tag_class_name=\"sw_tag0\"))\n",
    "print(hsd_link.get_sw_tag_class_status(hsd_link_instance, device_id, tag_class_name=\"sw_tag0\"))"
   ]
  },
  {
   "cell_type": "markdown",
   "metadata": {},
   "source": [
    "<p><li><u>HW Tag</u> classes</p>"
   ]
  },
  {
   "cell_type": "code",
   "execution_count": null,
   "metadata": {},
   "outputs": [],
   "source": [
    "hw_tag_classes = hsd_link.get_hw_tag_classes(hsd_link_instance, device_id)\n",
    "if hw_tag_classes is not None:\n",
    "    HSDatalog.present_hw_tag_classes(hsd, hw_tag_classes)\n",
    "else:\n",
    "    print(\"No HW Tag classes available\")"
   ]
  },
  {
   "cell_type": "markdown",
   "metadata": {},
   "source": [
    "<li><u>Maximum number of annotations</u> supported per single acquisition</li>"
   ]
  },
  {
   "cell_type": "code",
   "execution_count": null,
   "metadata": {},
   "outputs": [],
   "source": [
    "max_tag_per_acq = hsd_link.get_max_tags_per_acq(hsd_link_instance, device_id)\n",
    "print(f\"Max tags per acquisition: {max_tag_per_acq}\")"
   ]
  },
  {
   "cell_type": "markdown",
   "metadata": {},
   "source": [
    "<h2>SET Commands\n",
    "<hr>"
   ]
  },
  {
   "cell_type": "markdown",
   "metadata": {},
   "source": [
    "SET single sensor parameter:"
   ]
  },
  {
   "cell_type": "code",
   "execution_count": null,
   "metadata": {},
   "outputs": [],
   "source": [
    "sensor_name = \"ism330dhcx_acc\"\n",
    "print(\"--> SET enable Property = True\")\n",
    "hsd_link.set_sensor_enable(hsd_link_instance, device_id, True, sensor_name=sensor_name)\n",
    "print(f\"Enable: {hsd_link.get_sensor_enabled(hsd_link_instance, device_id, sensor_name=sensor_name)}\")\n",
    "print(\"--> SET odr Property = 1666.0 Hz (DTDL enum=7)\")\n",
    "hsd_link.set_sensor_odr(hsd_link_instance, device_id, 7, sensor_name=sensor_name)\n",
    "print(f\"ODR: {hsd_link.get_sensor_odr(hsd_link_instance, device_id, sensor_name=sensor_name)}\")\n",
    "print(\"--> SET fs Property = 8 g (DTDL enum=2)\")\n",
    "hsd_link.set_sensor_fs(hsd_link_instance, device_id, 2, sensor_name=sensor_name)\n",
    "print(f\"FS: {hsd_link.get_sensor_fs(hsd_link_instance, device_id, sensor_name=sensor_name)}\")\n",
    "print(\"--> SET SamplePerTimestamp = 500\")\n",
    "hsd_link.set_sensor_spts(hsd_link_instance, device_id, 500, sensor_name=sensor_name)\n",
    "print(f\"SamplePerTimestamp: {hsd_link.get_sensor_spts(hsd_link_instance, device_id, sensor_name=sensor_name)}\")"
   ]
  },
  {
   "attachments": {},
   "cell_type": "markdown",
   "metadata": {},
   "source": [
    "Upload an ucf file to configure the MLC sensor on the board (also if it isn't enabled)"
   ]
  },
  {
   "cell_type": "code",
   "execution_count": null,
   "metadata": {},
   "outputs": [],
   "source": [
    "ucf_file_path = \"path/to/mlc.ucf\"\n",
    "hsd_link.upload_mlc_ucf_file(hsd_link_instance, device_id, ucf_file_path)"
   ]
  },
  {
   "cell_type": "markdown",
   "metadata": {},
   "source": [
    "Device configuration update from JSON file"
   ]
  },
  {
   "cell_type": "code",
   "execution_count": null,
   "metadata": {},
   "outputs": [],
   "source": [
    "json_file_path = \"path/to/device_config.json\"\n",
    "try:\n",
    "    hsd_link.update_device(hsd_link_instance, device_id, json_file_path)\n",
    "except Exception as e:\n",
    "    print(f\"Wrong device_config.json: {e}\")\n",
    "sensor_list = hsd_link.get_sensor_list(hsd_link_instance, device_id, only_active=False)\n",
    "HSDatalog.present_sensor_list(hsd, sensor_list)"
   ]
  },
  {
   "cell_type": "markdown",
   "metadata": {},
   "source": [
    "Set next acquisition name and description"
   ]
  },
  {
   "cell_type": "code",
   "execution_count": null,
   "metadata": {},
   "outputs": [],
   "source": [
    "hsd_link.set_acquisition_info(hsd_link_instance, device_id, \"acq_name_00\", \"acq_notes_00\")\n",
    "print(hsd_link.get_acquisition_info(hsd_link_instance, device_id))"
   ]
  },
  {
   "cell_type": "markdown",
   "metadata": {},
   "source": [
    "Configure SW Tags labels"
   ]
  },
  {
   "cell_type": "code",
   "execution_count": null,
   "metadata": {},
   "outputs": [],
   "source": [
    "sw_tag_classes = hsd_link.get_sw_tag_classes(hsd_link_instance, device_id)\n",
    "print(sw_tag_classes)\n",
    "\n",
    "hsd_link.set_sw_tag_class_enabled_by_id(hsd_link_instance, device_id, 3, False)\n",
    "hsd_link.set_sw_tag_class_label_by_id(hsd_link_instance, device_id, 3, \"Walking\")\n",
    "hsd_link.set_sw_tag_class_enabled(hsd_link_instance, device_id, \"sw_tag4\", False)\n",
    "hsd_link.set_sw_tag_class_label(hsd_link_instance, device_id, \"sw_tag4\", \"Walking\")\n",
    "\n",
    "sw_tag_classes = hsd_link.get_sw_tag_classes(hsd_link_instance, device_id)\n",
    "print(sw_tag_classes)"
   ]
  },
  {
   "cell_type": "markdown",
   "metadata": {},
   "source": [
    "<h2>LOG CONTROL Commands </h2>\n",
    "<hr>"
   ]
  },
  {
   "attachments": {},
   "cell_type": "markdown",
   "metadata": {},
   "source": [
    "Set RTC Time. Send to the board the current datetime formatted as follow:\n",
    "<ul><b>\"%Y%m%d_%H_%M_%S\"</b></ul>"
   ]
  },
  {
   "cell_type": "code",
   "execution_count": null,
   "metadata": {},
   "outputs": [],
   "source": [
    "hsd_link.set_RTC(hsd_link_instance, device_id)"
   ]
  },
  {
   "attachments": {},
   "cell_type": "markdown",
   "metadata": {},
   "source": [
    "Once the configuration phase is concluded, it is possible to start the acquisition process.\n",
    "<p>With an acquisition in progress, you can get sensor data with for each active sensors.</p>\n",
    "<p><i>* In the following three code cells we start an acquisition retrieving data from all active sensors and save them in the acquisition folder. A dedicated thread will be created for each active sensor</i></p>"
   ]
  },
  {
   "cell_type": "code",
   "execution_count": null,
   "metadata": {
    "tags": []
   },
   "outputs": [],
   "source": [
    "import os\n",
    "import time\n",
    "from threading import Event\n",
    "from st_hsdatalog.HSD_link.HSDLink import SensorAcquisitionThread\n",
    "\n",
    "threads_stop_flags = []\n",
    "sensor_data_files = []\n",
    "\n",
    "sensor_list = hsd_link.get_sensor_list(hsd_link_instance, device_id, only_active=True)\n",
    "HSDatalog.present_sensor_list(hsd, sensor_list)\n",
    "\n",
    "hsd_link.start_log(hsd_link_instance, device_id)\n",
    "\n",
    "for sensor_name in sensor_list:\n",
    "    is_enabled = hsd_link.get_sensor_enabled(hsd_link_instance, device_id, sensor_name)\n",
    "    if is_enabled:\n",
    "        sensor_data_file_path = os.path.join(hsd_link.get_acquisition_folder(hsd_link_instance), f\"{sensor_name}.dat\")\n",
    "        sensor_data_file = open(sensor_data_file_path, \"wb+\")\n",
    "        sensor_data_files.append(sensor_data_file)\n",
    "        stopFlag = Event()\n",
    "        threads_stop_flags.append(stopFlag)\n",
    "        thread = SensorAcquisitionThread(stopFlag, hsd_link_instance, sensor_data_file, device_id, sensor_name)\n",
    "        thread.start()\n",
    "    else:\n",
    "        print(f\"[WARNING]: Sensor {sensor_name} is not enabled.\")\n",
    "\n",
    "time.sleep(3)"
   ]
  },
  {
   "cell_type": "markdown",
   "metadata": {},
   "source": [
    "Tag an acquisition in progress. (wait for 3 seconds, then 3 seconds of SW Tag Class 0 ->(label defined before as \"Walking\"), followed by 3 seconds of SW Tag Class 1."
   ]
  },
  {
   "cell_type": "code",
   "execution_count": null,
   "metadata": {},
   "outputs": [],
   "source": [
    "time.sleep(3)\n",
    "\n",
    "tag_id = 0\n",
    "hsd_link.set_sw_tag_on(hsd_link_instance, device_id, tag_id)\n",
    "time.sleep(3)\n",
    "hsd_link.set_sw_tag_off(hsd_link_instance, device_id, tag_id)\n",
    "\n",
    "hsd_link.set_sw_tag_on(hsd_link_instance, device_id, 1)\n",
    "time.sleep(3)\n",
    "hsd_link.set_sw_tag_off(hsd_link_instance, device_id, 1)\n",
    "\n",
    "time.sleep(3)"
   ]
  },
  {
   "attachments": {},
   "cell_type": "markdown",
   "metadata": {},
   "source": [
    "<p>To stop the process and save all necessary acquisition files in the right folder, you have to launch the following commands.</p>\n",
    "<p>In addition to sensor data files(.dat), the following JSON files will also be saved in the acquisition folder:</p>\n",
    "<li>Device configuration file <b>[device_config.json]</b> containing the current device status snapshot (Properties values)</li>\n",
    "<li>Acquisition info file <b>[acquisition_info.json]</b> containing a list of all annotations taken during the acquisition process (Acquisition Info Component Status)</li>\n",
    "<br>\n",
    "<i>* Each of these files contains an identification string to link them together and with a specific acquisition</i>"
   ]
  },
  {
   "cell_type": "code",
   "execution_count": null,
   "metadata": {},
   "outputs": [],
   "source": [
    "for sf in threads_stop_flags:\n",
    "    sf.set()\n",
    "for f in sensor_data_files:\n",
    "    f.close()\n",
    "\n",
    "hsd_link.stop_log(hsd_link_instance, device_id)\n",
    "hsd_link.save_json_device_file(hsd_link_instance, device_id)\n",
    "hsd_link.save_json_acq_info_file(hsd_link_instance, device_id)"
   ]
  }
 ],
 "metadata": {
  "kernelspec": {
   "display_name": "Python 3",
   "language": "python",
   "name": "python3"
  },
  "language_info": {
   "codemirror_mode": {
    "name": "ipython",
    "version": 3
   },
   "file_extension": ".py",
   "mimetype": "text/x-python",
   "name": "python",
   "nbconvert_exporter": "python",
   "pygments_lexer": "ipython3",
   "version": "3.12.1"
  }
 },
 "nbformat": 4,
 "nbformat_minor": 2
}

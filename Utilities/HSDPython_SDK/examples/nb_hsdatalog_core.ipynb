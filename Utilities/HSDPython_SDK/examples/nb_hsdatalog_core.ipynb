{
 "cells": [
  {
   "cell_type": "markdown",
   "metadata": {},
   "source": [
    "# How to Use st_hsdatalog (HSDatalog) Package - \\[CORE Features\\]\n",
    "---\n",
    "<br>\n",
    "<p>In this notebook, we will explore how to use the `st_hsdatalog` package, specifically focusing on core features. This guide will walk you through the process of importing necessary modules, initializing objects, and extracting data from your acquisition folder.</p>"
   ]
  },
  {
   "cell_type": "code",
   "execution_count": null,
   "metadata": {},
   "outputs": [],
   "source": [
    "from st_hsdatalog.HSD.HSDatalog import HSDatalog\n",
    "import matplotlib.pyplot as plt"
   ]
  },
  {
   "cell_type": "markdown",
   "metadata": {},
   "source": [
    "<span style=\"font-style: italic; color:#909090;\"><span style=\"color:cyan;\">*[Notebook utils] </span> -> Update this string to select the right acquisition folder</span>"
   ]
  },
  {
   "cell_type": "code",
   "execution_count": null,
   "metadata": {},
   "outputs": [],
   "source": [
    "acquisition_folder = \"path/to/your/acquisition_folder\""
   ]
  },
  {
   "cell_type": "markdown",
   "metadata": {},
   "source": [
    "## Initialize HSDatalog Object and Validate Acquisition Folder\n",
    "We will initialize the `HSDatalog` object and validate the acquisition folder. This step ensures that the folder contains the necessary data and is in the correct format.\n",
    "<span style=\"color:#909090;\">[FP-SNS-DATALOG1 and FP-SNS-DATALOG2 acquisition formats are supported]</span>"
   ]
  },
  {
   "cell_type": "code",
   "execution_count": null,
   "metadata": {},
   "outputs": [],
   "source": [
    "hsd = HSDatalog()\n",
    "hsd_version = hsd.validate_hsd_folder(acquisition_folder)\n",
    "print(f\"HSD Version: {hsd_version}\\n\")\n",
    "\n",
    "hsd_instance = hsd.create_hsd(acquisition_folder=acquisition_folder)"
   ]
  },
  {
   "cell_type": "markdown",
   "metadata": {},
   "source": [
    "## Obtain Device Information\n",
    "The `HSDatalog` package allows you to obtain all the information regarding the acquisition and the board that generated it. You can obtain the device information as shown below:"
   ]
  },
  {
   "cell_type": "code",
   "execution_count": null,
   "metadata": {},
   "outputs": [],
   "source": [
    "device_info = hsd.get_device_info(hsd_instance)\n",
    "print(f\"\\nDevice Info: {device_info}\")\n",
    "hsd.present_device_info(hsd_instance)"
   ]
  },
  {
   "cell_type": "markdown",
   "metadata": {},
   "source": [
    "## Obtain Sensor Information\n",
    "You can obtain the list of available sensors in the acquisition folder. This includes both active and inactive sensors."
   ]
  },
  {
   "cell_type": "code",
   "execution_count": null,
   "metadata": {},
   "outputs": [],
   "source": [
    "sensor_list = hsd.get_sensor_list(hsd_instance)\n",
    "print(f\"\\nSensor List: {sensor_list}\\n\")\n",
    "hsd.present_sensor_list(hsd_instance)"
   ]
  },
  {
   "cell_type": "markdown",
   "metadata": {},
   "source": [
    "### Active Sensors\n",
    "You can obtain the list of available **active** sensors. Active sensors are those that are currently collecting data."
   ]
  },
  {
   "cell_type": "code",
   "execution_count": null,
   "metadata": {},
   "outputs": [],
   "source": [
    "active_sensor_list = hsd.get_sensor_list(hsd_instance, only_active=True)\n",
    "print(active_sensor_list)\n",
    "hsd.present_sensor_list(hsd_instance, active_sensor_list)"
   ]
  },
  {
   "cell_type": "markdown",
   "metadata": {},
   "source": [
    "### Filter Sensors by Type\n",
    "You can also obtain the list of available active sensors filtered by a specific type (e.g., Accelerometer)."
   ]
  },
  {
   "cell_type": "code",
   "execution_count": null,
   "metadata": {},
   "outputs": [],
   "source": [
    "acc_list = hsd.get_sensor_list(hsd_instance, type_filter=\"acc\", only_active=True)\n",
    "print(acc_list)\n",
    "hsd.present_sensor_list(hsd_instance, acc_list)"
   ]
  },
  {
   "cell_type": "markdown",
   "metadata": {},
   "source": [
    "### Access Sensor by Name\n",
    "You can directly access a sensor by passing its name to the following function."
   ]
  },
  {
   "cell_type": "code",
   "execution_count": null,
   "metadata": {},
   "outputs": [],
   "source": [
    "sensor_name = hsd.get_sensor_name(hsd_instance, sensor_list[0])\n",
    "print(f\"\\nSensor Name: {sensor_name}\\n\")\n",
    "sensor = hsd.get_sensor(hsd_instance, sensor_name)\n",
    "print(f\"Sensor: {sensor}\")\n",
    "hsd.present_sensor(hsd_instance, sensor)"
   ]
  },
  {
   "cell_type": "markdown",
   "metadata": {},
   "source": [
    "## Sensor Configuration Information\n",
    "For each sensor, it is possible to extract all the information regarding its current configuration. This includes sensitivity, output data rate (ODR), full scale (FS), samples per timestamp (SPTS) and other properties."
   ]
  },
  {
   "cell_type": "code",
   "execution_count": null,
   "metadata": {},
   "outputs": [],
   "source": [
    "sensor_sensitivity = hsd.get_sensor_sensitivity(hsd_instance, sensor)\n",
    "sensor_odr = hsd.get_sensor_odr(hsd_instance, sensor)\n",
    "sensor_fs = hsd.get_sensor_fs(hsd_instance, sensor)\n",
    "sensor_spts = hsd.get_sensor_spts(hsd_instance, sensor)\n",
    "\n",
    "print(f\"Sensor Sensitivity: {sensor_sensitivity}\")\n",
    "print(f\"Sensor ODR: {sensor_odr}\")\n",
    "print(f\"Sensor FS: {sensor_fs}\")\n",
    "print(f\"Sensor SPTS: {sensor_spts}\")"
   ]
  },
  {
   "cell_type": "markdown",
   "metadata": {},
   "source": [
    "## List of Sensor Data Files\n",
    "You can also get the list of sensor data files in your selected acquisition folder. This is useful for understanding the data structure and contents of the folder."
   ]
  },
  {
   "cell_type": "code",
   "execution_count": null,
   "metadata": {},
   "outputs": [],
   "source": [
    "dat_files = hsd.get_dat_file_list(hsd_instance)\n",
    "print(f\".dat Files: {dat_files}\\n\")"
   ]
  },
  {
   "cell_type": "markdown",
   "metadata": {},
   "source": [
    "## Data Extraction\n",
    "---\n",
    "### Pandas DataFrame\n",
    "Data are extracted from the acquisition folder as pandas DataFrames. Select a sensor and get a DataFrame as shown below."
   ]
  },
  {
   "cell_type": "code",
   "execution_count": null,
   "metadata": {},
   "outputs": [],
   "source": [
    "dataframes = hsd.get_dataframe(hsd_instance, sensor)\n",
    "print(f\"Dataframes: {dataframes}\")"
   ]
  },
  {
   "cell_type": "markdown",
   "metadata": {},
   "source": [
    "### Data Subset\n",
    "If needed, you can select a data subset from the acquisition file. This can be useful to limit the amount of data to be analyzed in case of large files."
   ]
  },
  {
   "cell_type": "code",
   "execution_count": null,
   "metadata": {},
   "outputs": [],
   "source": [
    "dataframes_subset = hsd.get_dataframe(hsd_instance, sensor, start_time=0, end_time=3)\n",
    "print(f\"Dataframes Subset: {dataframes_subset}\")"
   ]
  },
  {
   "cell_type": "markdown",
   "metadata": {},
   "source": [
    "### Labeled Data\n",
    "Add labels column to the exported DataFrame (if the acquisition is labeled). This is useful for annotated data analysis."
   ]
  },
  {
   "cell_type": "code",
   "execution_count": null,
   "metadata": {},
   "outputs": [],
   "source": [
    "dataframes_labeled = hsd.get_dataframe(hsd_instance, sensor, labeled=True)\n",
    "print(f\"Dataframes Labeled: {dataframes_labeled}\")"
   ]
  },
  {
   "cell_type": "markdown",
   "metadata": {},
   "source": [
    "### Raw Data\n",
    "Select raw data. Data will not be multiplied by the sensor sensitivity value. This is useful for low-level data analysis."
   ]
  },
  {
   "cell_type": "code",
   "execution_count": null,
   "metadata": {},
   "outputs": [],
   "source": [
    "dataframes_raw = hsd.get_dataframe(hsd_instance, sensor, raw_data=True)\n",
    "print(f\"Dataframes Raw: {dataframes_raw}\")"
   ]
  },
  {
   "cell_type": "markdown",
   "metadata": {},
   "source": [
    "# Plotting Data\n",
    "---\n",
    "Using the HSDatalog core module, it is also possible to visualize the data of an acquisition. Below are various ways to plot the data.\n",
    "\n",
    "### Plot Data of a Specific Sensor\n",
    "You can plot the data of a specific sensor as shown below."
   ]
  },
  {
   "cell_type": "code",
   "execution_count": null,
   "metadata": {},
   "outputs": [],
   "source": [
    "hsd.plot(hsd_instance, sensor, start_time=0, end_time=-1)\n",
    "plt.show()"
   ]
  },
  {
   "cell_type": "markdown",
   "metadata": {},
   "source": [
    "### Plot Data of All Sensors\n",
    "You can also plot the data of all sensors in the acquisition."
   ]
  },
  {
   "cell_type": "code",
   "execution_count": null,
   "metadata": {},
   "outputs": [],
   "source": [
    "all_components = hsd.get_all_components(hsd_instance, only_active=True)\n",
    "for component in all_components:\n",
    "    hsd.plot(hsd_instance, component, start_time=0, end_time=-1)\n",
    "plt.show()"
   ]
  },
  {
   "cell_type": "markdown",
   "metadata": {},
   "source": [
    "### Plot Customization Options\n",
    "The module provides a set of options to personalize the plots. Below are some examples:\n",
    "\n",
    "#### Limit Plot to Specific Samples Interval\n",
    "You can limit the plot to a specific samples interval."
   ]
  },
  {
   "cell_type": "code",
   "execution_count": null,
   "metadata": {},
   "outputs": [],
   "source": [
    "hsd.plot(hsd_instance, sensor, start_time=6, end_time=9)\n",
    "plt.show()"
   ]
  },
  {
   "cell_type": "markdown",
   "metadata": {},
   "source": [
    "#### Display Data Annotations\n",
    "To display data annotations, the acquisition must be annotated."
   ]
  },
  {
   "cell_type": "code",
   "execution_count": null,
   "metadata": {},
   "outputs": [],
   "source": [
    "label_list = hsd.get_acquisition_label_classes(hsd_instance)\n",
    "print(label_list)\n",
    "\n",
    "hsd.plot(hsd_instance, sensor, label='SW_TAG_0')\n",
    "hsd.plot(hsd_instance, sensor, label='SW_TAG_2')\n",
    "plt.show()"
   ]
  },
  {
   "cell_type": "markdown",
   "metadata": {},
   "source": [
    "#### Sub-Plot for Each Dimension\n",
    "In case of multidimensional sensors, you can display a sub-plot for each dimension."
   ]
  },
  {
   "cell_type": "code",
   "execution_count": null,
   "metadata": {},
   "outputs": [],
   "source": [
    "hsd.plot(hsd_instance, sensor, subplots=True)\n",
    "plt.show()"
   ]
  },
  {
   "cell_type": "markdown",
   "metadata": {},
   "source": [
    "#### Display Data Annotations in Multidimensional Plots\n",
    "You can also display data annotations in case of multidimensional plots."
   ]
  },
  {
   "cell_type": "code",
   "execution_count": null,
   "metadata": {},
   "outputs": [],
   "source": [
    "hsd.plot(hsd_instance, sensor, label='SW_TAG_2', subplots=True)\n",
    "plt.show()"
   ]
  },
  {
   "cell_type": "markdown",
   "metadata": {},
   "source": [
    "#### Show Raw Data\n",
    "To show raw data (not multiplied by sensitivity), use the following option."
   ]
  },
  {
   "cell_type": "code",
   "execution_count": null,
   "metadata": {},
   "outputs": [],
   "source": [
    "sensor_sensitivity = hsd.get_sensor_sensitivity(hsd_instance, sensor)\n",
    "print(f\"sensitivity: {sensor_sensitivity}\")\n",
    "hsd.plot(hsd_instance, sensor, raw_data=True)\n",
    "plt.show()"
   ]
  }
 ],
 "metadata": {
  "kernelspec": {
   "display_name": "Python 3",
   "language": "python",
   "name": "python3"
  },
  "language_info": {
   "codemirror_mode": {
    "name": "ipython",
    "version": 3
   },
   "file_extension": ".py",
   "mimetype": "text/x-python",
   "name": "python",
   "nbconvert_exporter": "python",
   "pygments_lexer": "ipython3",
   "version": "3.10.10"
  }
 },
 "nbformat": 4,
 "nbformat_minor": 2
}

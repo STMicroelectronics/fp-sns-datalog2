{
 "cells": [
  {
   "attachments": {},
   "cell_type": "markdown",
   "metadata": {},
   "source": [
    "# How to use st_hsdatalog HSD package - \\[CORE Features\\]\n",
    "---\n",
    "<br>\n",
    "<p>Import the HSD Core module</p>"
   ]
  },
  {
   "cell_type": "code",
   "execution_count": null,
   "metadata": {},
   "outputs": [],
   "source": [
    "from st_hsdatalog.HSD.HSDatalog import HSDatalog"
   ]
  },
  {
   "cell_type": "markdown",
   "metadata": {},
   "source": [
    "<span style=\"font-style: italic; color:#909090;\"><span style=\"color:cyan;\">*[Notebook utils] </span> -> Update this boolean to select the right example folder and sensor names in next code cells</span>"
   ]
  },
  {
   "cell_type": "code",
   "execution_count": null,
   "metadata": {},
   "outputs": [],
   "source": [
    "hsd_2 = True"
   ]
  },
  {
   "cell_type": "markdown",
   "metadata": {},
   "source": [
    "Initialize the HSDatalog object by passing a valid acquisition folder as a parameter.<br>\n",
    "<span style=\"color:#909090;\">[FP-SNS-DATALOG1 and FP-SNS-DATALOG2 acquisition formats are supported]</span>"
   ]
  },
  {
   "cell_type": "code",
   "execution_count": null,
   "metadata": {},
   "outputs": [],
   "source": [
    "if hsd_2:\n",
    "    acq_folder = \"..\\\\..\\\\STWIN.box_acquisition_examples\\\\20221017_13_04_39\"\n",
    "else:\n",
    "    acq_folder = \"..\\\\..\\\\STWIN_acquisition_examples\\\\STWIN_00002\"\n",
    "\n",
    "hsd_factory = HSDatalog()\n",
    "hsd= hsd_factory.create_hsd(acq_folder)"
   ]
  },
  {
   "cell_type": "markdown",
   "metadata": {},
   "source": [
    "HSDatalog allows you to obtain all the information regarding the acquisition and the board that generated it.\n",
    "* You can obtain the list of the available sensors:"
   ]
  },
  {
   "cell_type": "code",
   "execution_count": null,
   "metadata": {},
   "outputs": [],
   "source": [
    "sensor_list = HSDatalog.get_sensor_list(hsd, only_active=False)\n",
    "HSDatalog.present_sensor_list(hsd, sensor_list)"
   ]
  },
  {
   "cell_type": "markdown",
   "metadata": {},
   "source": [
    "* You can obtain the list of the available <b style=\"color:cyan\">ACTIVE</b> sensors:"
   ]
  },
  {
   "cell_type": "code",
   "execution_count": null,
   "metadata": {},
   "outputs": [],
   "source": [
    "sensor_list = HSDatalog.get_sensor_list(hsd, only_active=True)\n",
    "HSDatalog.present_sensor_list(hsd, sensor_list)"
   ]
  },
  {
   "cell_type": "markdown",
   "metadata": {},
   "source": [
    "* You can also obtain the list of the available active sensors filterd by a type (E.g. Microphone):"
   ]
  },
  {
   "cell_type": "code",
   "execution_count": null,
   "metadata": {},
   "outputs": [],
   "source": [
    "mic_list = HSDatalog.get_sensor_list(hsd, type_filter=\"MIC\", only_active=True)\n",
    "HSDatalog.present_sensor_list(hsd, mic_list)"
   ]
  },
  {
   "cell_type": "markdown",
   "metadata": {},
   "source": [
    "- You can directly access the sensor passing its name to the following function"
   ]
  },
  {
   "cell_type": "code",
   "execution_count": null,
   "metadata": {},
   "outputs": [],
   "source": [
    "if hsd_2:\n",
    "    sensor_name = \"stts22h_temp\"\n",
    "else:\n",
    "    sensor_name = \"HTS221\"\n",
    "\n",
    "sensor = HSDatalog.get_sensor(hsd, sensor_name)\n",
    "HSDatalog.present_sensor(hsd, sensor)"
   ]
  },
  {
   "attachments": {},
   "cell_type": "markdown",
   "metadata": {},
   "source": [
    "For each sensor it is possible to extract all the information regarding its current configuration"
   ]
  },
  {
   "cell_type": "code",
   "execution_count": null,
   "metadata": {},
   "outputs": [],
   "source": [
    "print(sensor)\n",
    "\n",
    "s_name = HSDatalog.get_sensor_name(hsd, sensor)\n",
    "s_odr = HSDatalog.get_sensor_odr(hsd, sensor)\n",
    "s_fs = HSDatalog.get_sensor_fs(hsd, sensor)\n",
    "s_spts = HSDatalog.get_sensor_spts(hsd, sensor)\n",
    "\n",
    "print(\" --> {} - ODR: {} , FS: {} , SamplesPerTs {}\".format(s_name, s_odr, s_fs, s_spts))"
   ]
  },
  {
   "cell_type": "markdown",
   "metadata": {},
   "source": [
    "You can also get the list of sensor data files in your selected acquisition folder:"
   ]
  },
  {
   "cell_type": "code",
   "execution_count": null,
   "metadata": {},
   "outputs": [],
   "source": [
    "file_names = HSDatalog.get_dat_file_list(hsd)\n",
    "print(file_names)"
   ]
  },
  {
   "cell_type": "markdown",
   "metadata": {},
   "source": [
    "Once you have collected all sensors desired parameters, you can extract data from your acquisition:\n",
    "# Data Extraction\n",
    "---\n",
    "## Pandas DataFrame\n",
    "Data are extracted from the acquisition folder as pandas DataFrames. Select a sensor and get a DataFrame as shown below"
   ]
  },
  {
   "cell_type": "code",
   "execution_count": null,
   "metadata": {},
   "outputs": [],
   "source": [
    "if hsd_2:\n",
    "    sensor_name = \"iis3dwb_acc\"\n",
    "else:\n",
    "    sensor_name = \"HTS221\"\n",
    "\n",
    "sensor = HSDatalog.get_sensor(hsd, sensor_name)\n",
    "df = HSDatalog.get_dataframe(hsd, sensor)\n",
    "[x.describe() for x in df]"
   ]
  },
  {
   "cell_type": "markdown",
   "metadata": {},
   "source": [
    "If needed you can select a data subset from the acquisition file. It can be useful to limit the amount of data to be analyzed in case of large files. "
   ]
  },
  {
   "cell_type": "code",
   "execution_count": null,
   "metadata": {},
   "outputs": [],
   "source": [
    "df = HSDatalog.get_dataframe(hsd, sensor, start_time = 0, end_time = 3)\n",
    "[print(x) for x in df]"
   ]
  },
  {
   "cell_type": "markdown",
   "metadata": {},
   "source": [
    "Add labels column to the exported DataFrame (if the acquisition is labeled)"
   ]
  },
  {
   "cell_type": "code",
   "execution_count": null,
   "metadata": {},
   "outputs": [],
   "source": [
    "df = HSDatalog.get_dataframe(hsd, sensor, labeled = True)\n",
    "[print(x) for x in df]"
   ]
  },
  {
   "cell_type": "markdown",
   "metadata": {},
   "source": [
    "Raw data selection. Data will not be multiplied by the sensor sensitivity value"
   ]
  },
  {
   "cell_type": "code",
   "execution_count": null,
   "metadata": {},
   "outputs": [],
   "source": [
    "df = HSDatalog.get_dataframe(hsd, sensor, raw_data = True)\n",
    "[print(x) for x in df]"
   ]
  },
  {
   "cell_type": "markdown",
   "metadata": {},
   "source": [
    "# Plot\n",
    "---\n",
    "Using the HSDatalog core module it is also possible to visualize the data of an acquisition as follows\n",
    "- You can plot one the data of a specific sensor:"
   ]
  },
  {
   "cell_type": "code",
   "execution_count": null,
   "metadata": {},
   "outputs": [],
   "source": [
    "import matplotlib.pyplot as plt\n",
    "if hsd_2:\n",
    "    sensor_name = \"iis3dwb_acc\"\n",
    "else:\n",
    "    sensor_name = \"HTS221\"\n",
    "\n",
    "sensor = HSDatalog.get_sensor(hsd, sensor_name)\n",
    "HSDatalog.plot(hsd, sensor)"
   ]
  },
  {
   "cell_type": "markdown",
   "metadata": {},
   "source": [
    "- or those of all sensors in the acquisition:"
   ]
  },
  {
   "cell_type": "code",
   "execution_count": null,
   "metadata": {},
   "outputs": [],
   "source": [
    "active_sensor_list = HSDatalog.get_all_components(hsd, only_active=True)\n",
    "for sensor in active_sensor_list:\n",
    "    HSDatalog.plot(hsd, sensor)"
   ]
  },
  {
   "cell_type": "markdown",
   "metadata": {},
   "source": [
    "The module provides a set of options to personalize the plots\n",
    "- It is possible to limit the plot to a specific samples interval"
   ]
  },
  {
   "cell_type": "code",
   "execution_count": null,
   "metadata": {},
   "outputs": [],
   "source": [
    "if hsd_2:\n",
    "    sensor_name = \"iis3dwb_acc\"\n",
    "else:\n",
    "    sensor_name = \"IIS3DWB\"\n",
    "\n",
    "sensor = HSDatalog.get_sensor(hsd, sensor_name)\n",
    "HSDatalog.plot(hsd, sensor, start_time=6, end_time=9)"
   ]
  },
  {
   "cell_type": "markdown",
   "metadata": {},
   "source": [
    "- To display data annotations (acquisition must be annotated)"
   ]
  },
  {
   "cell_type": "code",
   "execution_count": null,
   "metadata": {},
   "outputs": [],
   "source": [
    "label_list = HSDatalog.get_acquisition_label_classes(hsd)\n",
    "print(label_list)\n",
    "\n",
    "if hsd_2:\n",
    "    sensor_name = \"stts22h_temp\"\n",
    "else:\n",
    "    sensor_name = \"HTS221\"\n",
    "    \n",
    "sensor = HSDatalog.get_sensor(hsd, sensor_name)\n",
    "HSDatalog.plot(hsd, sensor, label='SW_TAG_0')\n",
    "HSDatalog.plot(hsd, sensor, label='SW_TAG_2')\n"
   ]
  },
  {
   "cell_type": "markdown",
   "metadata": {},
   "source": [
    "- To display a sub-plot for each dimension, in case of multidimensional sensors"
   ]
  },
  {
   "cell_type": "code",
   "execution_count": null,
   "metadata": {},
   "outputs": [],
   "source": [
    "if hsd_2:\n",
    "    sensor_name = \"ism330dhcx_gyro\"\n",
    "else:\n",
    "    sensor_name = \"ISM330DHCX\"\n",
    "\n",
    "sensor = HSDatalog.get_sensor(hsd, sensor_name)\n",
    "HSDatalog.plot(hsd, sensor, subplots=True)"
   ]
  },
  {
   "cell_type": "markdown",
   "metadata": {},
   "source": [
    "- To display data annotations also in case of  multidimensional plots"
   ]
  },
  {
   "cell_type": "code",
   "execution_count": null,
   "metadata": {},
   "outputs": [],
   "source": [
    "if hsd_2:\n",
    "    sensor_name = \"ism330dhcx_gyro\"\n",
    "else:\n",
    "    sensor_name = \"ISM330DHCX\"\n",
    "\n",
    "sensor = HSDatalog.get_sensor(hsd, sensor_name)\n",
    "HSDatalog.plot(hsd, sensor, label='SW_TAG_2', subplots=True)"
   ]
  },
  {
   "cell_type": "markdown",
   "metadata": {},
   "source": [
    "- To show raw data (not multiplied by sensitivity)"
   ]
  },
  {
   "cell_type": "code",
   "execution_count": null,
   "metadata": {},
   "outputs": [],
   "source": [
    "if hsd_2:\n",
    "    sensor_name = \"iis3dwb_acc\"\n",
    "else:\n",
    "    sensor_name = \"IIS3DWB\"\n",
    "sensor = HSDatalog.get_sensor(hsd, sensor_name)\n",
    "sensor_sensitivity = HSDatalog.get_sensor_sensitivity(hsd, sensor)\n",
    "print(\"sensitivity: {}\".format(sensor_sensitivity))\n",
    "HSDatalog.plot(hsd, sensor, raw_data=True)"
   ]
  }
 ],
 "metadata": {
  "kernelspec": {
   "display_name": ".venv",
   "language": "python",
   "name": "python3"
  },
  "language_info": {
   "codemirror_mode": {
    "name": "ipython",
    "version": 3
   },
   "file_extension": ".py",
   "mimetype": "text/x-python",
   "name": "python",
   "nbconvert_exporter": "python",
   "pygments_lexer": "ipython3",
   "version": "3.9.5 (tags/v3.9.5:0a7dcbd, May  3 2021, 17:27:52) [MSC v.1928 64 bit (AMD64)]"
  },
  "orig_nbformat": 2,
  "vscode": {
   "interpreter": {
    "hash": "52be901ce7b25ebca494f3ea5804dea201c1963ee21397f246a351e8b03e058e"
   }
  }
 },
 "nbformat": 4,
 "nbformat_minor": 2
}

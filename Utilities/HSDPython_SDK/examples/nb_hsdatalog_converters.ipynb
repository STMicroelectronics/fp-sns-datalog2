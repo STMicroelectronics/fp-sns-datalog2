{
 "cells": [
  {
   "attachments": {},
   "cell_type": "markdown",
   "metadata": {},
   "source": [
    "# How to use st_hsdatalog HSD_utils package - \\[Data format conversion Features\\]\n",
    "---\n",
    "<br>\n",
    "<p>import st_hsdatalog.HSDatalog and HSDatalogConverter modules</p>"
   ]
  },
  {
   "cell_type": "code",
   "execution_count": null,
   "metadata": {},
   "outputs": [],
   "source": [
    "from st_hsdatalog.HSD_utils.converters import HSDatalogConverter\n",
    "from st_hsdatalog.HSD.HSDatalog import HSDatalog"
   ]
  },
  {
   "cell_type": "markdown",
   "metadata": {},
   "source": [
    "<span style=\"font-style: italic; color:#909090;\"><span style=\"color:cyan;\">*[Notebook utils] </span> -> Update this boolean to select the right example folder and sensor names in next code cells</span>"
   ]
  },
  {
   "cell_type": "code",
   "execution_count": null,
   "metadata": {},
   "outputs": [],
   "source": [
    "hsd_2 = True"
   ]
  },
  {
   "cell_type": "markdown",
   "metadata": {},
   "source": [
    "HSDatalog will be only used to extract Pandas dataframes in a simple way (extracting them from an HSDatalog acquisition folder), as shown in the [nb_hsdatalog_core.ipynb] notebook."
   ]
  },
  {
   "cell_type": "code",
   "execution_count": null,
   "metadata": {},
   "outputs": [],
   "source": [
    "if hsd_2:\n",
    "    acq_folder = \"..\\\\..\\\\STWIN.box_acquisition_examples\\\\20221017_13_04_39\"\n",
    "    sensor_name = \"iis3dwb_acc\"\n",
    "else:\n",
    "    acq_folder = \"..\\\\..\\\\STWIN_acquisition_examples\\\\STWIN_00002\"\n",
    "    sensor_name = \"IIS3DWB\"\n",
    "\n",
    "hsd_factory = HSDatalog()\n",
    "hsd= hsd_factory.create_hsd(acq_folder)\n",
    "\n",
    "sensor = HSDatalog.get_sensor(hsd, sensor_name)\n",
    "dataframe = HSDatalog.get_dataframe(hsd, sensor)\n",
    "print(dataframe)"
   ]
  },
  {
   "cell_type": "markdown",
   "metadata": {},
   "source": [
    "# Data Conversion\n",
    "---\n",
    "<p>The HSDatalogConverter module works independently from the core module, as long as the data to be converted are Pandas DataFrames.</p>\n",
    "Starting from a DataFrame it is possible to convert the data of an acquisition in the following formats:\n",
    "<ul>\n",
    "<li> CSV, TSV\n",
    "<li> Cartesiam format\n",
    "<li> ST UNICO format\n",
    "<li> WAV (Only for Microphones)\n",
    "</ul>\n",
    "To access the conversion features, we have to:\n",
    "<ul>\n",
    "<li> Import the HSD_utils.converters module (already done in the first code cell).\n",
    "<li> choose a folder to save the conversion output files\n",
    "</ul>\n"
   ]
  },
  {
   "cell_type": "code",
   "execution_count": null,
   "metadata": {},
   "outputs": [],
   "source": [
    "from st_hsdatalog.HSD_utils.converters import HSDatalogConverter\n",
    "import os\n",
    "\n",
    "if hsd_2:\n",
    "    output_folder = \".\\\\STWIN.box_Exported_data_folder\"\n",
    "else:\n",
    "    output_folder = \".\\\\STWIN_Exported_data_folder\"\n",
    "if not os.path.exists(output_folder):\n",
    "    os.makedirs(output_folder)"
   ]
  },
  {
   "cell_type": "markdown",
   "metadata": {},
   "source": [
    "## CSV, TSV Conversion"
   ]
  },
  {
   "cell_type": "code",
   "execution_count": null,
   "metadata": {},
   "outputs": [],
   "source": [
    "if hsd_2:\n",
    "    sensor_name = \"stts22h_temp\"\n",
    "else:\n",
    "    sensor_name = \"HTS221\"\n",
    "\n",
    "sensor = HSDatalog.get_sensor(hsd, sensor_name)\n",
    "dataframe = HSDatalog.get_dataframe(hsd, sensor)\n",
    "\n",
    "exported_sensor_path = os.path.join(output_folder,sensor_name)\n",
    "\n",
    "print(\"CSV Conversion Started\")\n",
    "[HSDatalogConverter.to_csv(x, exported_sensor_path) for x in dataframe]\n",
    "print(\"CSV Conversion Ended\")\n",
    "print(\"TSV Conversion Started\")\n",
    "[HSDatalogConverter.to_tsv(x, exported_sensor_path) for x in dataframe]\n",
    "print(\"TSV Conversion Ended\")"
   ]
  },
  {
   "cell_type": "markdown",
   "metadata": {},
   "source": [
    "## Nanoedge format Conversion"
   ]
  },
  {
   "cell_type": "code",
   "execution_count": null,
   "metadata": {},
   "outputs": [],
   "source": [
    "if hsd_2:\n",
    "    sensor_name = \"iis3dwb_acc\"\n",
    "else:\n",
    "    sensor_name = \"IIS3DWB\"\n",
    "\n",
    "dataframe = HSDatalog.get_dataframe(hsd, sensor)\n",
    "for df in dataframe:\n",
    "    HSDatalogConverter.to_nanoedge_format(output_folder, sensor_name, df, signal_length = 100, signal_increment = 75)"
   ]
  },
  {
   "cell_type": "markdown",
   "metadata": {},
   "source": [
    "## ST UNICO format Conversion\n",
    "Available outpuf formats currently accepted in input by Unico GUI: txt (default), csv, tsv. \n",
    "- Unlabeled acquisition. Even if present, the tag data in the acquisition is not used"
   ]
  },
  {
   "cell_type": "code",
   "execution_count": null,
   "metadata": {},
   "outputs": [],
   "source": [
    "if hsd_2:\n",
    "    sensor_name = \"ism330dhcx_gyro\"\n",
    "else:\n",
    "    sensor_name = \"ISM330DHCX\"\n",
    "    \n",
    "dataframe = HSDatalog.get_dataframe(hsd, sensor)\n",
    "HSDatalogConverter.to_unico(output_folder, sensor_name, dataframe, out_format = \"csv\")"
   ]
  },
  {
   "cell_type": "markdown",
   "metadata": {},
   "source": [
    "- Labeled Acquisition. If available, the tag data are read and used to split the converted files"
   ]
  },
  {
   "cell_type": "code",
   "execution_count": null,
   "metadata": {},
   "outputs": [],
   "source": [
    "if hsd_2:\n",
    "    sensor_name = \"ism330dhcx_gyro\"\n",
    "else:\n",
    "    sensor_name = \"ISM330DHCX\"\n",
    "\n",
    "dataframe = HSDatalog.get_dataframe(hsd, sensor, labeled=True)\n",
    "data_tags = HSDatalog.get_data_stream_tags(hsd, sensor)\n",
    "print(data_tags)\n",
    "\n",
    "HSDatalogConverter.to_unico(output_folder, sensor_name, dataframe, data_tags, \"csv\")"
   ]
  },
  {
   "attachments": {},
   "cell_type": "markdown",
   "metadata": {},
   "source": [
    "## WAV Conversion\n",
    "\n",
    "<span style=\"font-style: italic; color:#909090;\">Conversion process is done in \"batch mode\", so this feature could be used even with large files as input.</span>\n",
    "- example with IMP23ABSU Analog microphone"
   ]
  },
  {
   "cell_type": "code",
   "execution_count": null,
   "metadata": {},
   "outputs": [],
   "source": [
    "import numpy as np\n",
    "from IPython.display import Audio\n",
    "\n",
    "if hsd_2:\n",
    "    acq_folder = \"..\\\\..\\\\STWIN.box_acquisition_examples\\\\20221017_12_50_55\"\n",
    "    sensor_name = \"imp23absu_mic\"\n",
    "else:\n",
    "    acq_folder = \"..\\\\..\\\\STWIN_acquisition_examples\\\\STWIN_20210205_15_47_16\"\n",
    "    sensor_name = \"IMP23ABSU\"\n",
    "\n",
    "hsd= hsd_factory.create_hsd(acq_folder)\n",
    "    \n",
    "sensor = HSDatalog.get_sensor(hsd, sensor_name)\n",
    "sensor_odr = HSDatalog.get_sensor_odr(hsd, sensor)\n",
    "print(\"ODR: {}\".format(sensor_odr))\n",
    "\n",
    "wav_file_name = os.path.join(output_folder, \"{}.wav\".format(sensor_name))\n",
    "audio_data = HSDatalog.get_data_and_timestamps(hsd, sensor)[0][0]\n",
    "pcm_data = audio_data.astype(np.int16)\n",
    "HSDatalogConverter.to_wav(pcm_data,wav_file_name, sensor_odr)\n",
    "Audio(wav_file_name)"
   ]
  },
  {
   "attachments": {},
   "cell_type": "markdown",
   "metadata": {},
   "source": [
    "- example with IMP34DT05 Digital microphone"
   ]
  },
  {
   "cell_type": "code",
   "execution_count": null,
   "metadata": {},
   "outputs": [],
   "source": [
    "import numpy as np\n",
    "from IPython.display import Audio\n",
    "\n",
    "if hsd_2:\n",
    "    sensor_name = \"imp34dt05_mic\"\n",
    "else:\n",
    "    sensor_name = \"IMP34DT05\"\n",
    "\n",
    "sensor = HSDatalog.get_sensor(hsd, sensor_name)\n",
    "sensor_odr = HSDatalog.get_sensor_odr(hsd, sensor)\n",
    "print(\"ODR: {}\".format(sensor_odr))\n",
    "\n",
    "wav_file_name = os.path.join(output_folder, \"{}.wav\".format(sensor_name))\n",
    "audio_data = HSDatalog.get_data_and_timestamps(hsd, sensor)[0][0]\n",
    "pcm_data = audio_data.astype(np.int16)\n",
    "HSDatalogConverter.to_wav(pcm_data,wav_file_name, sensor_odr)\n",
    "Audio(wav_file_name)"
   ]
  }
 ],
 "metadata": {
  "kernelspec": {
   "display_name": ".venv",
   "language": "python",
   "name": "python3"
  },
  "language_info": {
   "codemirror_mode": {
    "name": "ipython",
    "version": 3
   },
   "file_extension": ".py",
   "mimetype": "text/x-python",
   "name": "python",
   "nbconvert_exporter": "python",
   "pygments_lexer": "ipython3",
   "version": "3.9.5"
  },
  "orig_nbformat": 2,
  "vscode": {
   "interpreter": {
    "hash": "52be901ce7b25ebca494f3ea5804dea201c1963ee21397f246a351e8b03e058e"
   }
  }
 },
 "nbformat": 4,
 "nbformat_minor": 2
}
